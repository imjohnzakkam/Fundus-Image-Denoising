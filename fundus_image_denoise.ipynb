{
  "nbformat": 4,
  "nbformat_minor": 0,
  "metadata": {
    "colab": {
      "name": "fundus_image_denoise.ipynb",
      "provenance": [],
      "collapsed_sections": []
    },
    "kernelspec": {
      "name": "python3",
      "display_name": "Python 3"
    },
    "language_info": {
      "name": "python"
    },
    "accelerator": "GPU"
  },
  "cells": [
    {
      "cell_type": "code",
      "execution_count": 48,
      "metadata": {
        "id": "cQonsVaXNQq_"
      },
      "outputs": [],
      "source": [
        "import numpy as np\n",
        "import matplotlib.pyplot as plt\n",
        "import os\n",
        "import cv2 as cv\n",
        "from PIL import Image\n",
        "from numpy import asarray\n",
        "from tensorflow import keras"
      ]
    },
    {
      "cell_type": "code",
      "source": [
        "# mount google drive \n",
        "# from google.colab import drive\n",
        "# drive.mount('/content/drive')"
      ],
      "metadata": {
        "id": "PYAHQnryMYPr"
      },
      "execution_count": 49,
      "outputs": []
    },
    {
      "cell_type": "code",
      "source": [
        "x_train = []\n",
        "x_test = []"
      ],
      "metadata": {
        "id": "nBgyspqyNxGl"
      },
      "execution_count": 50,
      "outputs": []
    },
    {
      "cell_type": "code",
      "source": [
        "os.chdir('/content/drive/MyDrive/Datasets/')\n",
        "\n",
        "for i in os.listdir('./fundus_train_images'):\n",
        "  img = Image.open('./fundus_train_images/' + i)\n",
        "  data = asarray(img)\n",
        "  data = np.array([cv.resize(data, (256, 256))])\n",
        "  x_train.append(data[0] / 255)\n",
        "\n",
        "x_train = np.array(x_train)"
      ],
      "metadata": {
        "id": "z31C_7LBQ0fQ"
      },
      "execution_count": 51,
      "outputs": []
    },
    {
      "cell_type": "code",
      "source": [
        "print(x_train.shape)"
      ],
      "metadata": {
        "colab": {
          "base_uri": "https://localhost:8080/"
        },
        "id": "SYSPw5XPVUNL",
        "outputId": "21d67e3a-4d64-42e7-87fb-b14b21240a2c"
      },
      "execution_count": 52,
      "outputs": [
        {
          "output_type": "stream",
          "name": "stdout",
          "text": [
            "(147, 256, 256, 3)\n"
          ]
        }
      ]
    },
    {
      "cell_type": "code",
      "source": [
        "for i in os.listdir('./fundus_test_images'):\n",
        "  img = Image.open('./fundus_test_images/' + i)\n",
        "  data = asarray(img)\n",
        "  data = np.array([cv.resize(data, (256, 256))])\n",
        "  x_test.append(data[0] / 255)\n",
        "\n",
        "x_test = np.array(x_test)"
      ],
      "metadata": {
        "id": "_g5n7Aa7VhAB"
      },
      "execution_count": 53,
      "outputs": []
    },
    {
      "cell_type": "code",
      "source": [
        "dim = x_train.shape[1]\n",
        "\n",
        "x_train = np.reshape(x_train, (len(x_train), dim, dim, 3))\n",
        "x_test = np.reshape(x_test, (len(x_test), dim, dim, 3))"
      ],
      "metadata": {
        "id": "fBNZ1n_6VqPd"
      },
      "execution_count": 54,
      "outputs": []
    },
    {
      "cell_type": "code",
      "source": [
        "noise_factor = 0.01\n",
        "\n",
        "x_train_noisy = x_train + noise_factor * np.random.normal(loc=0.0, scale=1.0, size=x_train.shape)\n",
        "x_test_noisy = x_test + noise_factor * np.random.normal(loc=0.0, scale=1.0, size=x_test.shape)\n",
        "\n",
        "x_train_noisy = np.clip(x_train_noisy, 0.0, 1.0)\n",
        "x_test_noisy = np.clip(x_test_noisy, 0.0, 1.0)"
      ],
      "metadata": {
        "id": "QnEhsogpWprK"
      },
      "execution_count": 55,
      "outputs": []
    },
    {
      "cell_type": "code",
      "source": [
        "n = 3\n",
        "for i in range(n):\n",
        "  fig, axes = plt.subplots(1, 2)\n",
        "  fig.set_size_inches(5, 5)\n",
        "  axes[0].set_title(\"True Image\")\n",
        "  im0 = axes[0].imshow(x_test[i].reshape(dim, dim, -1), cmap=\"Reds\")\n",
        "  axes[1].set_title(\"Noisy Image\")\n",
        "  im1 = axes[1].imshow(x_test_noisy[i].reshape(dim, dim, -1), cmap=\"Reds\")\n",
        "  plt.close(fig)"
      ],
      "metadata": {
        "id": "ZOlxRBMgXnXg"
      },
      "execution_count": 56,
      "outputs": []
    },
    {
      "cell_type": "code",
      "source": [
        "print(x_train_noisy.shape)"
      ],
      "metadata": {
        "colab": {
          "base_uri": "https://localhost:8080/"
        },
        "id": "oC6B8YxVYJsS",
        "outputId": "8d31a694-fd56-4a28-f72b-6f63b63fdd81"
      },
      "execution_count": 57,
      "outputs": [
        {
          "output_type": "stream",
          "name": "stdout",
          "text": [
            "(147, 256, 256, 3)\n"
          ]
        }
      ]
    },
    {
      "cell_type": "code",
      "source": [
        "import tensorflow as tf\n",
        "\n",
        "def unet2(IMG_WIDTH,IMG_HEIGHT,IMG_CHANNEL):\n",
        "  inputs= tf.keras.layers.Input((IMG_WIDTH,IMG_HEIGHT,IMG_CHANNEL))\n",
        "  c1=tf.keras.layers.Conv2D(16,(3,3),activation='relu',kernel_initializer='he_normal',padding='same')(inputs)\n",
        "  c1=tf.keras.layers.Dropout(0.1)(c1)\n",
        "  c1=tf.keras.layers.Conv2D(16,(3,3),activation='relu',kernel_initializer='he_normal',padding='same')(c1)\n",
        "  #c1=tf.keras.layers.Dropout(0.1)(c1)\n",
        "  p1=tf.keras.layers.MaxPooling2D((2,2))(c1)\n",
        "\n",
        "  c2=tf.keras.layers.Conv2D(32,(3,3),activation='relu',kernel_initializer='he_normal',padding='same')(p1)\n",
        "  c2=tf.keras.layers.Dropout(0.1)(c2)\n",
        "  c2=tf.keras.layers.Conv2D(32,(3,3),activation='relu',kernel_initializer='he_normal',padding='same')(c2)\n",
        "  #c2=tf.keras.layers.Dropout(0.1)(c2)\n",
        "  p2=tf.keras.layers.MaxPooling2D((2,2))(c2)\n",
        "\n",
        "  c3=tf.keras.layers.Conv2D(64,(3,3),activation='relu',kernel_initializer='he_normal',padding='same')(p2)\n",
        "  c3=tf.keras.layers.Dropout(0.1)(c3)\n",
        "  c3=tf.keras.layers.Conv2D(64,(3,3),activation='relu',kernel_initializer='he_normal',padding='same')(c3)\n",
        "  #c3=tf.keras.layers.Dropout(0.1)(c3)\n",
        "  p3=tf.keras.layers.MaxPooling2D((2,2))(c3)\n",
        "\n",
        "  c4=tf.keras.layers.Conv2D(128,(3,3),activation='relu',kernel_initializer='he_normal',padding='same')(p3)\n",
        "  c4=tf.keras.layers.Dropout(0.1)(c4)\n",
        "  c4=tf.keras.layers.Conv2D(128,(3,3),activation='relu',kernel_initializer='he_normal',padding='same')(c4)\n",
        "  #c4=tf.keras.layers.Dropout(0.1)(c4)\n",
        "  p4=tf.keras.layers.MaxPooling2D((2,2))(c4)\n",
        "\n",
        "  c5=tf.keras.layers.Conv2D(256,(3,3),activation='relu',kernel_initializer='he_normal',padding='same')(p4)\n",
        "  c5=tf.keras.layers.Dropout(0.1)(c5)\n",
        "  c5=tf.keras.layers.Conv2D(256,(3,3),activation='relu',kernel_initializer='he_normal',padding='same')(c5)\n",
        "  #c5=tf.keras.layers.Dropout(0.1)(c5)\n",
        "\n",
        "  u6=tf.keras.layers.Conv2DTranspose(128,(2,2),strides=(2,2),padding='same')(c5)\n",
        "  u6=tf.keras.layers.concatenate([u6,c4])\n",
        "  c6=tf.keras.layers.Conv2D(128,(3,3),activation='relu',kernel_initializer='he_normal',padding='same')(u6)\n",
        "  c6=tf.keras.layers.Dropout(0.1)(c6)\n",
        "  c6=tf.keras.layers.Conv2D(128,(3,3),activation='relu',kernel_initializer='he_normal',padding='same')(c6)\n",
        "  #c4=tf.keras.layers.Dropout(0.1)(c4)\n",
        "\n",
        "  u7=tf.keras.layers.Conv2DTranspose(64,(2,2),strides=(2,2),padding='same')(c6)\n",
        "  u7=tf.keras.layers.concatenate([u7,c3])\n",
        "  c7=tf.keras.layers.Conv2D(64,(3,3),activation='relu',kernel_initializer='he_normal',padding='same')(u7)\n",
        "  c7=tf.keras.layers.Dropout(0.1)(c7)\n",
        "  c7=tf.keras.layers.Conv2D(64,(3,3),activation='relu',kernel_initializer='he_normal',padding='same')(c7)\n",
        "\n",
        "  u8=tf.keras.layers.Conv2DTranspose(32,(2,2),strides=(2,2),padding='same')(c7)\n",
        "  u8=tf.keras.layers.concatenate([u8,c2])\n",
        "  c8=tf.keras.layers.Conv2D(32,(3,3),activation='relu',kernel_initializer='he_normal',padding='same')(u8)\n",
        "  c8=tf.keras.layers.Dropout(0.1)(c8)\n",
        "  c8=tf.keras.layers.Conv2D(32,(3,3),activation='relu',kernel_initializer='he_normal',padding='same')(c8)\n",
        "\n",
        "  u9=tf.keras.layers.Conv2DTranspose(16,(2,2),strides=(2,2),padding='same')(c8)\n",
        "  u9=tf.keras.layers.concatenate([u9,c1])\n",
        "  c9=tf.keras.layers.Conv2D(16,(3,3),activation='relu',kernel_initializer='he_normal',padding='same')(u9)\n",
        "  c9=tf.keras.layers.Dropout(0.1)(c9)\n",
        "  c9=tf.keras.layers.Conv2D(16,(3,3),activation='relu',kernel_initializer='he_normal',padding='same')(c9)\n",
        "\n",
        "  outputs=tf.keras.layers.Conv2D(3,1,activation='sigmoid')(c9)\n",
        "\n",
        "  model=tf.keras.Model(inputs=[inputs],outputs=[outputs])  \n",
        "  return model\n",
        "\n",
        "model = unet2(256,256,3)\n",
        "\n",
        "model.compile(loss = 'binary_crossentropy', optimizer = 'adam', metrics = ['accuracy'])\n",
        "model.summary()"
      ],
      "metadata": {
        "colab": {
          "base_uri": "https://localhost:8080/"
        },
        "id": "N8FjX-8xYNl0",
        "outputId": "dbb8e1a5-328d-4d30-8299-788dfd746b2f"
      },
      "execution_count": 58,
      "outputs": [
        {
          "output_type": "stream",
          "name": "stdout",
          "text": [
            "Model: \"model_2\"\n",
            "__________________________________________________________________________________________________\n",
            " Layer (type)                   Output Shape         Param #     Connected to                     \n",
            "==================================================================================================\n",
            " input_3 (InputLayer)           [(None, 256, 256, 3  0           []                               \n",
            "                                )]                                                                \n",
            "                                                                                                  \n",
            " conv2d_38 (Conv2D)             (None, 256, 256, 16  448         ['input_3[0][0]']                \n",
            "                                )                                                                 \n",
            "                                                                                                  \n",
            " dropout_18 (Dropout)           (None, 256, 256, 16  0           ['conv2d_38[0][0]']              \n",
            "                                )                                                                 \n",
            "                                                                                                  \n",
            " conv2d_39 (Conv2D)             (None, 256, 256, 16  2320        ['dropout_18[0][0]']             \n",
            "                                )                                                                 \n",
            "                                                                                                  \n",
            " max_pooling2d_8 (MaxPooling2D)  (None, 128, 128, 16  0          ['conv2d_39[0][0]']              \n",
            "                                )                                                                 \n",
            "                                                                                                  \n",
            " conv2d_40 (Conv2D)             (None, 128, 128, 32  4640        ['max_pooling2d_8[0][0]']        \n",
            "                                )                                                                 \n",
            "                                                                                                  \n",
            " dropout_19 (Dropout)           (None, 128, 128, 32  0           ['conv2d_40[0][0]']              \n",
            "                                )                                                                 \n",
            "                                                                                                  \n",
            " conv2d_41 (Conv2D)             (None, 128, 128, 32  9248        ['dropout_19[0][0]']             \n",
            "                                )                                                                 \n",
            "                                                                                                  \n",
            " max_pooling2d_9 (MaxPooling2D)  (None, 64, 64, 32)  0           ['conv2d_41[0][0]']              \n",
            "                                                                                                  \n",
            " conv2d_42 (Conv2D)             (None, 64, 64, 64)   18496       ['max_pooling2d_9[0][0]']        \n",
            "                                                                                                  \n",
            " dropout_20 (Dropout)           (None, 64, 64, 64)   0           ['conv2d_42[0][0]']              \n",
            "                                                                                                  \n",
            " conv2d_43 (Conv2D)             (None, 64, 64, 64)   36928       ['dropout_20[0][0]']             \n",
            "                                                                                                  \n",
            " max_pooling2d_10 (MaxPooling2D  (None, 32, 32, 64)  0           ['conv2d_43[0][0]']              \n",
            " )                                                                                                \n",
            "                                                                                                  \n",
            " conv2d_44 (Conv2D)             (None, 32, 32, 128)  73856       ['max_pooling2d_10[0][0]']       \n",
            "                                                                                                  \n",
            " dropout_21 (Dropout)           (None, 32, 32, 128)  0           ['conv2d_44[0][0]']              \n",
            "                                                                                                  \n",
            " conv2d_45 (Conv2D)             (None, 32, 32, 128)  147584      ['dropout_21[0][0]']             \n",
            "                                                                                                  \n",
            " max_pooling2d_11 (MaxPooling2D  (None, 16, 16, 128)  0          ['conv2d_45[0][0]']              \n",
            " )                                                                                                \n",
            "                                                                                                  \n",
            " conv2d_46 (Conv2D)             (None, 16, 16, 256)  295168      ['max_pooling2d_11[0][0]']       \n",
            "                                                                                                  \n",
            " dropout_22 (Dropout)           (None, 16, 16, 256)  0           ['conv2d_46[0][0]']              \n",
            "                                                                                                  \n",
            " conv2d_47 (Conv2D)             (None, 16, 16, 256)  590080      ['dropout_22[0][0]']             \n",
            "                                                                                                  \n",
            " conv2d_transpose_8 (Conv2DTran  (None, 32, 32, 128)  131200     ['conv2d_47[0][0]']              \n",
            " spose)                                                                                           \n",
            "                                                                                                  \n",
            " concatenate_8 (Concatenate)    (None, 32, 32, 256)  0           ['conv2d_transpose_8[0][0]',     \n",
            "                                                                  'conv2d_45[0][0]']              \n",
            "                                                                                                  \n",
            " conv2d_48 (Conv2D)             (None, 32, 32, 128)  295040      ['concatenate_8[0][0]']          \n",
            "                                                                                                  \n",
            " dropout_23 (Dropout)           (None, 32, 32, 128)  0           ['conv2d_48[0][0]']              \n",
            "                                                                                                  \n",
            " conv2d_49 (Conv2D)             (None, 32, 32, 128)  147584      ['dropout_23[0][0]']             \n",
            "                                                                                                  \n",
            " conv2d_transpose_9 (Conv2DTran  (None, 64, 64, 64)  32832       ['conv2d_49[0][0]']              \n",
            " spose)                                                                                           \n",
            "                                                                                                  \n",
            " concatenate_9 (Concatenate)    (None, 64, 64, 128)  0           ['conv2d_transpose_9[0][0]',     \n",
            "                                                                  'conv2d_43[0][0]']              \n",
            "                                                                                                  \n",
            " conv2d_50 (Conv2D)             (None, 64, 64, 64)   73792       ['concatenate_9[0][0]']          \n",
            "                                                                                                  \n",
            " dropout_24 (Dropout)           (None, 64, 64, 64)   0           ['conv2d_50[0][0]']              \n",
            "                                                                                                  \n",
            " conv2d_51 (Conv2D)             (None, 64, 64, 64)   36928       ['dropout_24[0][0]']             \n",
            "                                                                                                  \n",
            " conv2d_transpose_10 (Conv2DTra  (None, 128, 128, 32  8224       ['conv2d_51[0][0]']              \n",
            " nspose)                        )                                                                 \n",
            "                                                                                                  \n",
            " concatenate_10 (Concatenate)   (None, 128, 128, 64  0           ['conv2d_transpose_10[0][0]',    \n",
            "                                )                                 'conv2d_41[0][0]']              \n",
            "                                                                                                  \n",
            " conv2d_52 (Conv2D)             (None, 128, 128, 32  18464       ['concatenate_10[0][0]']         \n",
            "                                )                                                                 \n",
            "                                                                                                  \n",
            " dropout_25 (Dropout)           (None, 128, 128, 32  0           ['conv2d_52[0][0]']              \n",
            "                                )                                                                 \n",
            "                                                                                                  \n",
            " conv2d_53 (Conv2D)             (None, 128, 128, 32  9248        ['dropout_25[0][0]']             \n",
            "                                )                                                                 \n",
            "                                                                                                  \n",
            " conv2d_transpose_11 (Conv2DTra  (None, 256, 256, 16  2064       ['conv2d_53[0][0]']              \n",
            " nspose)                        )                                                                 \n",
            "                                                                                                  \n",
            " concatenate_11 (Concatenate)   (None, 256, 256, 32  0           ['conv2d_transpose_11[0][0]',    \n",
            "                                )                                 'conv2d_39[0][0]']              \n",
            "                                                                                                  \n",
            " conv2d_54 (Conv2D)             (None, 256, 256, 16  4624        ['concatenate_11[0][0]']         \n",
            "                                )                                                                 \n",
            "                                                                                                  \n",
            " dropout_26 (Dropout)           (None, 256, 256, 16  0           ['conv2d_54[0][0]']              \n",
            "                                )                                                                 \n",
            "                                                                                                  \n",
            " conv2d_55 (Conv2D)             (None, 256, 256, 16  2320        ['dropout_26[0][0]']             \n",
            "                                )                                                                 \n",
            "                                                                                                  \n",
            " conv2d_56 (Conv2D)             (None, 256, 256, 3)  51          ['conv2d_55[0][0]']              \n",
            "                                                                                                  \n",
            "==================================================================================================\n",
            "Total params: 1,941,139\n",
            "Trainable params: 1,941,139\n",
            "Non-trainable params: 0\n",
            "__________________________________________________________________________________________________\n"
          ]
        }
      ]
    },
    {
      "cell_type": "code",
      "source": [
        "# autoencoder = unet2(dim, dim, 3)\n",
        "\n",
        "# autoencoder.compile(optimizer='adam', loss='binary_crossentropy')\n",
        "\n",
        "# validation_split = 0.8\n",
        "# history = autoencoder.fit(\n",
        "#     x_train_noisy, \n",
        "#     x_train,\n",
        "#     epochs = 50,\n",
        "#     batch_size = 20,\n",
        "#     shuffle = True,\n",
        "#     validation_split = validation_split\n",
        "# )\n"
      ],
      "metadata": {
        "id": "x-9mE3xpYfGt"
      },
      "execution_count": 59,
      "outputs": []
    },
    {
      "cell_type": "code",
      "source": [
        "# save the fucking model\n",
        "os.chdir('/content/drive/MyDrive/Datasets/')\n",
        "# os.mkdir('/saved_models')\n",
        "# autoencoder.save('./saved_models/model_0')"
      ],
      "metadata": {
        "id": "XvrSAMrlZHYy"
      },
      "execution_count": 60,
      "outputs": []
    },
    {
      "cell_type": "code",
      "source": [
        "# autoencoder = keras.models.load('load model')\n",
        "autoencoder = keras.models.load_model('./saved_models/model_0')"
      ],
      "metadata": {
        "id": "NDse8QLlZJYC"
      },
      "execution_count": 61,
      "outputs": []
    },
    {
      "cell_type": "code",
      "source": [
        "history.history.keys()\n",
        "\n",
        "train_loss = history.history[\"loss\"]\n",
        "train_val_loss = history.history[\"val_loss\"]\n",
        "epochs = range(1, len(train_loss) + 1)\n",
        "\n",
        "plt.figure(dpi = 100)\n",
        "plt.plot(epochs, train_loss, label=\"Loss\")\n",
        "plt.plot(epochs, train_val_loss, \"o\", label=\"Val Loss\")\n",
        "plt.title(\"Training and Validation Metrics\")\n",
        "plt.legend()\n",
        "plt.savefig(\"history.png\")\n",
        "plt.show()"
      ],
      "metadata": {
        "colab": {
          "base_uri": "https://localhost:8080/",
          "height": 385
        },
        "id": "kSphJFv1ZOsk",
        "outputId": "955422c0-d5ab-4e40-edec-acb133f56726"
      },
      "execution_count": 62,
      "outputs": [
        {
          "output_type": "display_data",
          "data": {
            "image/png": "[encoded data removed]",
            "text/plain": [
              "<Figure size 600x400 with 1 Axes>"
            ]
          },
          "metadata": {
            "needs_background": "light"
          }
        }
      ]
    },
    {
      "cell_type": "code",
      "source": [
        "all_denoised_images = autoencoder.predict(x_test_noisy)\n",
        "\n",
        "test_loss = autoencoder.evaluate(x_test_noisy, x_test, batch_size = 20)"
      ],
      "metadata": {
        "colab": {
          "base_uri": "https://localhost:8080/"
        },
        "id": "2nWefibLaUf_",
        "outputId": "e62227cf-30bb-4ab5-e566-8959c387953e"
      },
      "execution_count": 63,
      "outputs": [
        {
          "output_type": "stream",
          "name": "stdout",
          "text": [
            "1/1 [==============================] - 0s 491ms/step - loss: 0.2132\n"
          ]
        }
      ]
    },
    {
      "cell_type": "code",
      "source": [
        "def sharpen_img(image):\n",
        "  kernel = np.array([[-1, -1, -1], [-1, 9, -1], [-1, -1, -1]])\n",
        "  image = cv.filter2D(image, -1, kernel)\n",
        "  return image"
      ],
      "metadata": {
        "id": "3NvB6LoPag5L"
      },
      "execution_count": 64,
      "outputs": []
    },
    {
      "cell_type": "code",
      "source": [
        "os.chdir('/content/drive/MyDrive/Datasets/comparison_images')\n",
        "print(os.getcwd())"
      ],
      "metadata": {
        "colab": {
          "base_uri": "https://localhost:8080/"
        },
        "id": "aYps07oDsl19",
        "outputId": "a19f8db1-5c52-4458-ec97-8cb8e9a08523"
      },
      "execution_count": 65,
      "outputs": [
        {
          "output_type": "stream",
          "name": "stdout",
          "text": [
            "/content/drive/MyDrive/Datasets/comparison_images\n"
          ]
        }
      ]
    },
    {
      "cell_type": "code",
      "source": [
        "cnt = 1\n",
        "n = 18\n",
        "for i in range(n):\n",
        "  fig, axes = plt.subplots(1, 4)\n",
        "  fig.set_size_inches(8, 2)\n",
        "  axes[0].set_title(\"Noisy image\")\n",
        "  im0 = axes[0].imshow(x_test_noisy[i].reshape(dim, dim, -1))\n",
        "  axes[1].set_title(\"Target image\")\n",
        "  im1 = axes[1].imshow(x_test[i].reshape(dim, dim, -1))\n",
        "  axes[2].set_title(\"Denoised image\")\n",
        "  im2 = axes[2].imshow(all_denoised_images[i].reshape(dim, dim, -1))\n",
        "  axes[3].set_title(\"Sharpened Image\")\n",
        "  final_img = all_denoised_images[i]\n",
        "  final_img = sharpen_img(all_denoised_images[i]).reshape(dim, dim, -1)\n",
        "  cnt += 1\n",
        "  im3 = axes[3].imshow(final_img)\n",
        "  plt.savefig(f\"./comparison-{i}.png\")\n",
        "  plt.close(fig)"
      ],
      "metadata": {
        "colab": {
          "base_uri": "https://localhost:8080/"
        },
        "id": "EqNp3zFwaxJu",
        "outputId": "ad0781ac-7ef4-4e75-809e-f5328560610d"
      },
      "execution_count": 66,
      "outputs": [
        {
          "output_type": "stream",
          "name": "stderr",
          "text": [
            "Clipping input data to the valid range for imshow with RGB data ([0..1] for floats or [0..255] for integers).\n",
            "Clipping input data to the valid range for imshow with RGB data ([0..1] for floats or [0..255] for integers).\n",
            "Clipping input data to the valid range for imshow with RGB data ([0..1] for floats or [0..255] for integers).\n",
            "Clipping input data to the valid range for imshow with RGB data ([0..1] for floats or [0..255] for integers).\n",
            "Clipping input data to the valid range for imshow with RGB data ([0..1] for floats or [0..255] for integers).\n",
            "Clipping input data to the valid range for imshow with RGB data ([0..1] for floats or [0..255] for integers).\n",
            "Clipping input data to the valid range for imshow with RGB data ([0..1] for floats or [0..255] for integers).\n",
            "Clipping input data to the valid range for imshow with RGB data ([0..1] for floats or [0..255] for integers).\n",
            "Clipping input data to the valid range for imshow with RGB data ([0..1] for floats or [0..255] for integers).\n",
            "Clipping input data to the valid range for imshow with RGB data ([0..1] for floats or [0..255] for integers).\n",
            "Clipping input data to the valid range for imshow with RGB data ([0..1] for floats or [0..255] for integers).\n",
            "Clipping input data to the valid range for imshow with RGB data ([0..1] for floats or [0..255] for integers).\n",
            "Clipping input data to the valid range for imshow with RGB data ([0..1] for floats or [0..255] for integers).\n",
            "Clipping input data to the valid range for imshow with RGB data ([0..1] for floats or [0..255] for integers).\n",
            "Clipping input data to the valid range for imshow with RGB data ([0..1] for floats or [0..255] for integers).\n",
            "Clipping input data to the valid range for imshow with RGB data ([0..1] for floats or [0..255] for integers).\n",
            "Clipping input data to the valid range for imshow with RGB data ([0..1] for floats or [0..255] for integers).\n",
            "Clipping input data to the valid range for imshow with RGB data ([0..1] for floats or [0..255] for integers).\n"
          ]
        }
      ]
    },
    {
      "cell_type": "code",
      "source": [
        "#check if the files are saved\n",
        "print(os.listdir())"
      ],
      "metadata": {
        "colab": {
          "base_uri": "https://localhost:8080/"
        },
        "id": "KjCZS825PPPI",
        "outputId": "435479b1-6815-45db-9342-1cf1b41744fe"
      },
      "execution_count": 67,
      "outputs": [
        {
          "output_type": "stream",
          "name": "stdout",
          "text": [
            "['comparison-0.png', 'comparison-1.png', 'comparison-2.png', 'comparison-3.png', 'comparison-4.png', 'comparison-5.png', 'comparison-6.png', 'comparison-7.png', 'comparison-8.png', 'comparison-9.png', 'comparison-10.png', 'comparison-11.png', 'comparison-12.png', 'comparison-13.png', 'comparison-14.png', 'comparison-15.png', 'comparison-16.png', 'comparison-17.png']\n"
          ]
        }
      ]
    }
  ]
}